{
  "nbformat": 4,
  "nbformat_minor": 0,
  "metadata": {
    "colab": {
      "name": "Actividad 2 - hands and feet.ipynb",
      "provenance": [],
      "collapsed_sections": [],
      "include_colab_link": true
    },
    "kernelspec": {
      "name": "python3",
      "display_name": "Python 3"
    }
  },
  "cells": [
    {
      "cell_type": "markdown",
      "metadata": {
        "id": "view-in-github",
        "colab_type": "text"
      },
      "source": [
        "<a href=\"https://colab.research.google.com/github/LosanChar/Datos-de-manos/blob/main/hands_and_feet.ipynb\" target=\"_parent\"><img src=\"https://colab.research.google.com/assets/colab-badge.svg\" alt=\"Open In Colab\"/></a>"
      ]
    },
    {
      "cell_type": "markdown",
      "metadata": {
        "id": "Mu8y235BQk62"
      },
      "source": [
        "# 1 - Hands and Feet \n",
        "\n",
        "## Data Science For Kids Taster Workshops\n",
        "\n",
        "\n",
        "\n",
        "---\n",
        "\n"
      ]
    },
    {
      "cell_type": "code",
      "metadata": {
        "id": "zO8qY8bIYfrp"
      },
      "source": [
        "from sklearn.metrics import confusion_matrix\n",
        "from sklearn.metrics import accuracy_score"
      ],
      "execution_count": null,
      "outputs": []
    },
    {
      "cell_type": "code",
      "metadata": {
        "colab": {
          "base_uri": "https://localhost:8080/"
        },
        "id": "UlPDAcjZbSwe",
        "outputId": "b895f3b6-db52-4c6c-c1e4-6e4bf62ba320"
      },
      "source": [
        "print(accuracy_score([0,1,0,0,1,1,0,1,0,1],[1,1,0,1,1,0,1,0,1,1]))"
      ],
      "execution_count": null,
      "outputs": [
        {
          "output_type": "stream",
          "name": "stdout",
          "text": [
            "0.4\n"
          ]
        }
      ]
    },
    {
      "cell_type": "code",
      "metadata": {
        "id": "Q6dpmEq0fpys"
      },
      "source": [
        "from google.colab import drive\n",
        "drive.mount('/content/drive')"
      ],
      "execution_count": null,
      "outputs": []
    },
    {
      "cell_type": "code",
      "metadata": {
        "colab": {
          "base_uri": "https://localhost:8080/"
        },
        "id": "W0N0BqxtX7Rx",
        "outputId": "6e89c893-cad2-426a-ea2c-e4062faedb23"
      },
      "source": [
        "print(confusion_matrix([0,1,0,0,1,1,0,1,0,1],[1,1,0,1,1,0,1,0,1,1]))"
      ],
      "execution_count": null,
      "outputs": [
        {
          "output_type": "stream",
          "name": "stdout",
          "text": [
            "[[1 4]\n",
            " [2 3]]\n"
          ]
        }
      ]
    },
    {
      "cell_type": "code",
      "metadata": {
        "colab": {
          "base_uri": "https://localhost:8080/"
        },
        "id": "r-GvgrOOhGx2",
        "outputId": "cb7a7339-c7c0-49a6-cc97-59a514784897"
      },
      "source": [
        "from google.colab import drive\n",
        "drive.mount('/content/drive')"
      ],
      "execution_count": null,
      "outputs": [
        {
          "output_type": "stream",
          "name": "stdout",
          "text": [
            "Mounted at /content/drive\n"
          ]
        }
      ]
    },
    {
      "cell_type": "code",
      "metadata": {
        "id": "WYJk0lwUK6Ei"
      },
      "source": [
        "# import helper libaries\n",
        "\n",
        "import pandas as pd"
      ],
      "execution_count": null,
      "outputs": []
    },
    {
      "cell_type": "code",
      "metadata": {
        "id": "F68w4BYWnmBT"
      },
      "source": [
        ""
      ],
      "execution_count": null,
      "outputs": []
    },
    {
      "cell_type": "code",
      "metadata": {
        "id": "dNHaApewgfC1"
      },
      "source": [
        "df = pd.read_csv(\"/content/sample_data/data.csv\")"
      ],
      "execution_count": null,
      "outputs": []
    },
    {
      "cell_type": "code",
      "metadata": {
        "id": "uu2Sm_xYpTMT"
      },
      "source": [
        "from sklearn import datasets\n",
        "\n",
        "cancer = datasets.load_breast_cancer()"
      ],
      "execution_count": null,
      "outputs": []
    },
    {
      "cell_type": "code",
      "metadata": {
        "id": "XOwEOkHfnbo1"
      },
      "source": [
        "print(cancer.DESCR)"
      ],
      "execution_count": null,
      "outputs": []
    },
    {
      "cell_type": "code",
      "metadata": {
        "id": "oVqee_C_pGrt"
      },
      "source": [
        "nombre_carac = cancer.feature_names"
      ],
      "execution_count": null,
      "outputs": []
    },
    {
      "cell_type": "code",
      "metadata": {
        "colab": {
          "base_uri": "https://localhost:8080/"
        },
        "id": "XXQtV3uEp7TH",
        "outputId": "241e458b-cb04-4706-b128-c1a6fbd0ead2"
      },
      "source": [
        "etiquetas = cancer.target\n",
        "etiquetas.shape"
      ],
      "execution_count": null,
      "outputs": [
        {
          "output_type": "execute_result",
          "data": {
            "text/plain": [
              "(569,)"
            ]
          },
          "metadata": {},
          "execution_count": 74
        }
      ]
    },
    {
      "cell_type": "code",
      "metadata": {
        "colab": {
          "base_uri": "https://localhost:8080/"
        },
        "id": "DTBPFzgHqmtM",
        "outputId": "8f43b98e-22fc-4360-a7b8-b7bba70cb8b1"
      },
      "source": [
        "datos = cancer.data\n",
        "datos.shape"
      ],
      "execution_count": null,
      "outputs": [
        {
          "output_type": "execute_result",
          "data": {
            "text/plain": [
              "(569, 30)"
            ]
          },
          "metadata": {},
          "execution_count": 75
        }
      ]
    },
    {
      "cell_type": "code",
      "metadata": {
        "id": "MGcM5xy8qMsS"
      },
      "source": [
        "tabla = pd.DataFrame(data = datos, columns=nombre_carac)\n",
        "tabla"
      ],
      "execution_count": null,
      "outputs": []
    },
    {
      "cell_type": "code",
      "metadata": {
        "id": "JGo00qR5hTLq"
      },
      "source": [
        " from sklearn.model_selection import train_test_split"
      ],
      "execution_count": null,
      "outputs": []
    },
    {
      "cell_type": "code",
      "metadata": {
        "id": "jTD7rlmvix7U"
      },
      "source": [
        "X_train, X_test, y_train, y_test = train_test_split(datos, etiquetas, train_size=.75, test_size=.25, shuffle = False)"
      ],
      "execution_count": null,
      "outputs": []
    },
    {
      "cell_type": "code",
      "metadata": {
        "colab": {
          "base_uri": "https://localhost:8080/"
        },
        "id": "DHV1Onpqi1dD",
        "outputId": "559acb15-0020-4f5b-bfc8-b855fc542003"
      },
      "source": [
        "print(X_train.shape, X_test.shape,y_train.shape,y_test.shape)"
      ],
      "execution_count": null,
      "outputs": [
        {
          "output_type": "stream",
          "name": "stdout",
          "text": [
            "(426, 30) (143, 30) (426,) (143,)\n"
          ]
        }
      ]
    },
    {
      "cell_type": "markdown",
      "metadata": {
        "id": "cfIneIxUNOPh"
      },
      "source": [
        "\n",
        "\n",
        "---\n",
        "\n",
        "\n",
        "\n",
        "# Left Hand"
      ]
    },
    {
      "cell_type": "code",
      "metadata": {
        "id": "W7G3XBJ2LDBI",
        "colab": {
          "base_uri": "https://localhost:8080/"
        },
        "outputId": "c394e6f9-5714-4d63-b66f-51a23ee81949"
      },
      "source": [
        "# how long are your left hand fingers?\n",
        "# use the rulers to measure your fingers\n",
        "# start with your thumb first\n",
        "\n",
        "left_fingers = [6.4, 8.6, 9.8, 9.5, 7.5]\n",
        "\n",
        "#print finger lengths\n",
        "\n",
        "print(left_fingers)"
      ],
      "execution_count": null,
      "outputs": [
        {
          "output_type": "stream",
          "name": "stdout",
          "text": [
            "[6.4, 8.6, 9.8, 9.5, 7.5]\n"
          ]
        }
      ]
    },
    {
      "cell_type": "code",
      "metadata": {
        "id": "zXUPNGF8L4GZ",
        "colab": {
          "base_uri": "https://localhost:8080/",
          "height": 204
        },
        "outputId": "40caaebc-359b-48f8-d596-5253bd3115a1"
      },
      "source": [
        "# turn into a dataframe\n",
        "\n",
        "left_hand_df = pandas.DataFrame(left_fingers, columns=['length'])\n",
        "\n",
        "left_hand_df"
      ],
      "execution_count": null,
      "outputs": [
        {
          "output_type": "execute_result",
          "data": {
            "text/html": [
              "<div>\n",
              "<style scoped>\n",
              "    .dataframe tbody tr th:only-of-type {\n",
              "        vertical-align: middle;\n",
              "    }\n",
              "\n",
              "    .dataframe tbody tr th {\n",
              "        vertical-align: top;\n",
              "    }\n",
              "\n",
              "    .dataframe thead th {\n",
              "        text-align: right;\n",
              "    }\n",
              "</style>\n",
              "<table border=\"1\" class=\"dataframe\">\n",
              "  <thead>\n",
              "    <tr style=\"text-align: right;\">\n",
              "      <th></th>\n",
              "      <th>length</th>\n",
              "    </tr>\n",
              "  </thead>\n",
              "  <tbody>\n",
              "    <tr>\n",
              "      <th>0</th>\n",
              "      <td>6.4</td>\n",
              "    </tr>\n",
              "    <tr>\n",
              "      <th>1</th>\n",
              "      <td>8.6</td>\n",
              "    </tr>\n",
              "    <tr>\n",
              "      <th>2</th>\n",
              "      <td>9.8</td>\n",
              "    </tr>\n",
              "    <tr>\n",
              "      <th>3</th>\n",
              "      <td>9.5</td>\n",
              "    </tr>\n",
              "    <tr>\n",
              "      <th>4</th>\n",
              "      <td>7.5</td>\n",
              "    </tr>\n",
              "  </tbody>\n",
              "</table>\n",
              "</div>"
            ],
            "text/plain": [
              "   length\n",
              "0     6.4\n",
              "1     8.6\n",
              "2     9.8\n",
              "3     9.5\n",
              "4     7.5"
            ]
          },
          "metadata": {},
          "execution_count": 3
        }
      ]
    },
    {
      "cell_type": "code",
      "metadata": {
        "id": "lcnhhxTKMhey",
        "colab": {
          "base_uri": "https://localhost:8080/",
          "height": 403
        },
        "outputId": "682f4b17-69fd-411b-82cf-b22ab14a4f35"
      },
      "source": [
        "# draw a picture to show how long your fingers are\n",
        "\n",
        "left_hand_df.plot(kind=\"bar\", title=\"left hand\", figsize=(10,6))"
      ],
      "execution_count": null,
      "outputs": [
        {
          "output_type": "execute_result",
          "data": {
            "text/plain": [
              "<matplotlib.axes._subplots.AxesSubplot at 0x7febf167c210>"
            ]
          },
          "metadata": {},
          "execution_count": 4
        },
        {
          "output_type": "display_data",
          "data": {
            "image/png": "[encoded data removed]",
            "text/plain": [
              "<Figure size 720x432 with 1 Axes>"
            ]
          },
          "metadata": {
            "needs_background": "light"
          }
        }
      ]
    },
    {
      "cell_type": "markdown",
      "metadata": {
        "id": "cx2zQJpyNhB5"
      },
      "source": [
        "\n",
        "\n",
        "---\n",
        "\n",
        "\n",
        "\n",
        "# Right Hand"
      ]
    },
    {
      "cell_type": "code",
      "metadata": {
        "id": "7AtG8wmCMqs4",
        "colab": {
          "base_uri": "https://localhost:8080/"
        },
        "outputId": "c2a94808-8612-48cd-e4bb-2dff710aa6e5"
      },
      "source": [
        "# now do the same for your right hand\n",
        "\n",
        "right_fingers = [7, 9.2, 10.3, 9.8, 8]\n",
        "\n",
        "#print finger lengths\n",
        "\n",
        "print(right_fingers)"
      ],
      "execution_count": null,
      "outputs": [
        {
          "output_type": "stream",
          "name": "stdout",
          "text": [
            "[7, 9.2, 10.3, 9.8, 8]\n"
          ]
        }
      ]
    },
    {
      "cell_type": "code",
      "metadata": {
        "id": "ML6El4xUNNFt",
        "colab": {
          "base_uri": "https://localhost:8080/",
          "height": 204
        },
        "outputId": "5d932f8a-9aaa-4707-a3af-f4067a32769f"
      },
      "source": [
        "# turn into a dataframe\n",
        "\n",
        "right_hand_df = pandas.DataFrame(right_fingers, columns=['length'])\n",
        "\n",
        "right_hand_df"
      ],
      "execution_count": null,
      "outputs": [
        {
          "output_type": "execute_result",
          "data": {
            "text/html": [
              "<div>\n",
              "<style scoped>\n",
              "    .dataframe tbody tr th:only-of-type {\n",
              "        vertical-align: middle;\n",
              "    }\n",
              "\n",
              "    .dataframe tbody tr th {\n",
              "        vertical-align: top;\n",
              "    }\n",
              "\n",
              "    .dataframe thead th {\n",
              "        text-align: right;\n",
              "    }\n",
              "</style>\n",
              "<table border=\"1\" class=\"dataframe\">\n",
              "  <thead>\n",
              "    <tr style=\"text-align: right;\">\n",
              "      <th></th>\n",
              "      <th>length</th>\n",
              "    </tr>\n",
              "  </thead>\n",
              "  <tbody>\n",
              "    <tr>\n",
              "      <th>0</th>\n",
              "      <td>7.0</td>\n",
              "    </tr>\n",
              "    <tr>\n",
              "      <th>1</th>\n",
              "      <td>9.2</td>\n",
              "    </tr>\n",
              "    <tr>\n",
              "      <th>2</th>\n",
              "      <td>10.3</td>\n",
              "    </tr>\n",
              "    <tr>\n",
              "      <th>3</th>\n",
              "      <td>9.8</td>\n",
              "    </tr>\n",
              "    <tr>\n",
              "      <th>4</th>\n",
              "      <td>8.0</td>\n",
              "    </tr>\n",
              "  </tbody>\n",
              "</table>\n",
              "</div>"
            ],
            "text/plain": [
              "   length\n",
              "0     7.0\n",
              "1     9.2\n",
              "2    10.3\n",
              "3     9.8\n",
              "4     8.0"
            ]
          },
          "metadata": {},
          "execution_count": 7
        }
      ]
    },
    {
      "cell_type": "code",
      "metadata": {
        "id": "6cATQSYlNwZ3",
        "colab": {
          "base_uri": "https://localhost:8080/",
          "height": 403
        },
        "outputId": "cff3a6ba-3013-4da9-edd7-32eeb238ff74"
      },
      "source": [
        "# draw a picture to show how long your right hand fingers are\n",
        "\n",
        "right_hand_df.plot(kind=\"bar\", title=\"right hand\", figsize=(10,6))"
      ],
      "execution_count": null,
      "outputs": [
        {
          "output_type": "execute_result",
          "data": {
            "text/plain": [
              "<matplotlib.axes._subplots.AxesSubplot at 0x7febeab38110>"
            ]
          },
          "metadata": {},
          "execution_count": 8
        },
        {
          "output_type": "display_data",
          "data": {
            "image/png": "[encoded data removed]",
            "text/plain": [
              "<Figure size 720x432 with 1 Axes>"
            ]
          },
          "metadata": {
            "needs_background": "light"
          }
        }
      ]
    },
    {
      "cell_type": "code",
      "metadata": {
        "id": "Zdx21l0KN16O"
      },
      "source": [
        ""
      ],
      "execution_count": null,
      "outputs": []
    },
    {
      "cell_type": "markdown",
      "metadata": {
        "id": "C4f6yKPnPWon"
      },
      "source": [
        "\n",
        "\n",
        "---\n",
        "\n",
        "\n",
        "# Compare Hands"
      ]
    },
    {
      "cell_type": "code",
      "metadata": {
        "id": "sbQ9ttGyPaLO",
        "colab": {
          "base_uri": "https://localhost:8080/"
        },
        "outputId": "ce8fcc41-275d-42a5-c3f7-6899315318ba"
      },
      "source": [
        "# what's the longest finger on your left hand?\n",
        "\n",
        "left_hand_df.max()"
      ],
      "execution_count": null,
      "outputs": [
        {
          "output_type": "execute_result",
          "data": {
            "text/plain": [
              "length    9.8\n",
              "dtype: float64"
            ]
          },
          "metadata": {},
          "execution_count": 9
        }
      ]
    },
    {
      "cell_type": "code",
      "metadata": {
        "colab": {
          "base_uri": "https://localhost:8080/"
        },
        "id": "UEMa4vsSRJzF",
        "outputId": "f35ccd46-033e-4361-f4e3-18886f888e5c"
      },
      "source": [
        "# what's the longest finger on your right hand?\n",
        "\n",
        "right_hand_df.max()"
      ],
      "execution_count": null,
      "outputs": [
        {
          "output_type": "execute_result",
          "data": {
            "text/plain": [
              "length    10.3\n",
              "dtype: float64"
            ]
          },
          "metadata": {},
          "execution_count": 13
        }
      ]
    },
    {
      "cell_type": "code",
      "metadata": {
        "id": "5RTE7E8ZPhaH",
        "colab": {
          "base_uri": "https://localhost:8080/"
        },
        "outputId": "9d38abee-fde6-435f-81e8-8a877e2fc157"
      },
      "source": [
        "# what's the shortest finger on your right hand?\n",
        "\n",
        "right_hand_df.min()"
      ],
      "execution_count": null,
      "outputs": [
        {
          "output_type": "execute_result",
          "data": {
            "text/plain": [
              "length    7.0\n",
              "dtype: float64"
            ]
          },
          "metadata": {},
          "execution_count": 10
        }
      ]
    },
    {
      "cell_type": "code",
      "metadata": {
        "colab": {
          "base_uri": "https://localhost:8080/"
        },
        "id": "zA2V9HWiRHiZ",
        "outputId": "9d5f1fb2-9fc8-402f-ec34-90b299eda670"
      },
      "source": [
        "# what's the shortest finger on your left hand?\n",
        "\n",
        "left_hand_df.min()"
      ],
      "execution_count": null,
      "outputs": [
        {
          "output_type": "execute_result",
          "data": {
            "text/plain": [
              "length    6.4\n",
              "dtype: float64"
            ]
          },
          "metadata": {},
          "execution_count": 14
        }
      ]
    },
    {
      "cell_type": "code",
      "metadata": {
        "id": "Z6JjtCBkQa28",
        "colab": {
          "base_uri": "https://localhost:8080/"
        },
        "outputId": "c474118e-c743-4584-b81a-fe11177c4b9d"
      },
      "source": [
        "# what is the average finger length for your left hand?\n",
        "\n",
        "left_hand_df.mean()"
      ],
      "execution_count": null,
      "outputs": [
        {
          "output_type": "execute_result",
          "data": {
            "text/plain": [
              "length    8.36\n",
              "dtype: float64"
            ]
          },
          "metadata": {},
          "execution_count": 11
        }
      ]
    },
    {
      "cell_type": "code",
      "metadata": {
        "id": "LteoksVfRCAO",
        "colab": {
          "base_uri": "https://localhost:8080/"
        },
        "outputId": "c23f2f2a-a80e-4a64-f9e1-361247fcdc6d"
      },
      "source": [
        "# what is the average finger length for your right hand?\n",
        "\n",
        "# is it different to your left hand?\n",
        "\n",
        "right_hand_df.mean()"
      ],
      "execution_count": null,
      "outputs": [
        {
          "output_type": "execute_result",
          "data": {
            "text/plain": [
              "length    8.86\n",
              "dtype: float64"
            ]
          },
          "metadata": {},
          "execution_count": 12
        }
      ]
    },
    {
      "cell_type": "markdown",
      "metadata": {
        "id": "nR-S87w-T2yw"
      },
      "source": [
        "\n",
        "\n",
        "---\n",
        "\n",
        "# Both Hands Together"
      ]
    },
    {
      "cell_type": "code",
      "metadata": {
        "id": "1s2TDChaRFPq",
        "colab": {
          "base_uri": "https://localhost:8080/",
          "height": 204
        },
        "outputId": "627d3345-04d7-4029-eb3d-0569dc3529ae"
      },
      "source": [
        "# join the two dataframes together\n",
        "\n",
        "both_hands_df = pandas.concat([left_hand_df, right_hand_df], axis=1)\n",
        "\n",
        "both_hands_df.columns = ['left', 'right']\n",
        "\n",
        "both_hands_df"
      ],
      "execution_count": null,
      "outputs": [
        {
          "output_type": "execute_result",
          "data": {
            "text/html": [
              "<div>\n",
              "<style scoped>\n",
              "    .dataframe tbody tr th:only-of-type {\n",
              "        vertical-align: middle;\n",
              "    }\n",
              "\n",
              "    .dataframe tbody tr th {\n",
              "        vertical-align: top;\n",
              "    }\n",
              "\n",
              "    .dataframe thead th {\n",
              "        text-align: right;\n",
              "    }\n",
              "</style>\n",
              "<table border=\"1\" class=\"dataframe\">\n",
              "  <thead>\n",
              "    <tr style=\"text-align: right;\">\n",
              "      <th></th>\n",
              "      <th>left</th>\n",
              "      <th>right</th>\n",
              "    </tr>\n",
              "  </thead>\n",
              "  <tbody>\n",
              "    <tr>\n",
              "      <th>0</th>\n",
              "      <td>6.4</td>\n",
              "      <td>7.0</td>\n",
              "    </tr>\n",
              "    <tr>\n",
              "      <th>1</th>\n",
              "      <td>8.6</td>\n",
              "      <td>9.2</td>\n",
              "    </tr>\n",
              "    <tr>\n",
              "      <th>2</th>\n",
              "      <td>9.8</td>\n",
              "      <td>10.3</td>\n",
              "    </tr>\n",
              "    <tr>\n",
              "      <th>3</th>\n",
              "      <td>9.5</td>\n",
              "      <td>9.8</td>\n",
              "    </tr>\n",
              "    <tr>\n",
              "      <th>4</th>\n",
              "      <td>7.5</td>\n",
              "      <td>8.0</td>\n",
              "    </tr>\n",
              "  </tbody>\n",
              "</table>\n",
              "</div>"
            ],
            "text/plain": [
              "   left  right\n",
              "0   6.4    7.0\n",
              "1   8.6    9.2\n",
              "2   9.8   10.3\n",
              "3   9.5    9.8\n",
              "4   7.5    8.0"
            ]
          },
          "metadata": {},
          "execution_count": 15
        }
      ]
    },
    {
      "cell_type": "code",
      "metadata": {
        "id": "aOHHibPwRfaB",
        "colab": {
          "base_uri": "https://localhost:8080/",
          "height": 403
        },
        "outputId": "d0372b74-8fd0-49be-dbba-5dc7e8440cc3"
      },
      "source": [
        "# draw a chart of fingers from both hands together\n",
        "\n",
        "# can you see the differences\n",
        "\n",
        "both_hands_df.plot(kind=\"bar\", title=\"both my hands\", figsize=(10,6))"
      ],
      "execution_count": null,
      "outputs": [
        {
          "output_type": "execute_result",
          "data": {
            "text/plain": [
              "<matplotlib.axes._subplots.AxesSubplot at 0x7febea52e710>"
            ]
          },
          "metadata": {},
          "execution_count": 16
        },
        {
          "output_type": "display_data",
          "data": {
            "image/png": "[encoded data removed]",
            "text/plain": [
              "<Figure size 720x432 with 1 Axes>"
            ]
          },
          "metadata": {
            "needs_background": "light"
          }
        }
      ]
    },
    {
      "cell_type": "code",
      "metadata": {
        "id": "26hfCaY4S_Ob"
      },
      "source": [
        ""
      ],
      "execution_count": null,
      "outputs": []
    }
  ]
}